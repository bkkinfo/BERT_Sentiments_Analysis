{
  "nbformat": 4,
  "nbformat_minor": 0,
  "metadata": {
    "colab": {
      "name": "Sentiments_Analysis_Using_Bert.ipynb",
      "provenance": []
    },
    "kernelspec": {
      "name": "python3",
      "display_name": "Python 3"
    },
    "language_info": {
      "name": "python"
    },
    "accelerator": "GPU",
    "gpuClass": "standard"
  },
  "cells": [
    {
      "cell_type": "markdown",
      "source": [
        "##1.Install and Import Dependencies"
      ],
      "metadata": {
        "id": "I3XR5T-ChmBX"
      }
    },
    {
      "cell_type": "code",
      "source": [
        "!pip3 install torch torchvision torchaudio --extra-index-url https://download.pytorch.org/whl/cu113"
      ],
      "metadata": {
        "colab": {
          "base_uri": "https://localhost:8080/"
        },
        "id": "PquA7hF_iDSY",
        "outputId": "d5084330-abed-42ee-a5de-fe32ddcebe71"
      },
      "execution_count": 48,
      "outputs": [
        {
          "output_type": "stream",
          "name": "stdout",
          "text": [
            "Looking in indexes: https://pypi.org/simple, https://us-python.pkg.dev/colab-wheels/public/simple/, https://download.pytorch.org/whl/cu113\n",
            "Requirement already satisfied: torch in /usr/local/lib/python3.7/dist-packages (1.11.0+cu113)\n",
            "Requirement already satisfied: torchvision in /usr/local/lib/python3.7/dist-packages (0.12.0+cu113)\n",
            "Requirement already satisfied: torchaudio in /usr/local/lib/python3.7/dist-packages (0.11.0+cu113)\n",
            "Requirement already satisfied: typing-extensions in /usr/local/lib/python3.7/dist-packages (from torch) (4.1.1)\n",
            "Requirement already satisfied: numpy in /usr/local/lib/python3.7/dist-packages (from torchvision) (1.21.6)\n",
            "Requirement already satisfied: pillow!=8.3.*,>=5.3.0 in /usr/local/lib/python3.7/dist-packages (from torchvision) (7.1.2)\n",
            "Requirement already satisfied: requests in /usr/local/lib/python3.7/dist-packages (from torchvision) (2.23.0)\n",
            "Requirement already satisfied: chardet<4,>=3.0.2 in /usr/local/lib/python3.7/dist-packages (from requests->torchvision) (3.0.4)\n",
            "Requirement already satisfied: urllib3!=1.25.0,!=1.25.1,<1.26,>=1.21.1 in /usr/local/lib/python3.7/dist-packages (from requests->torchvision) (1.24.3)\n",
            "Requirement already satisfied: idna<3,>=2.5 in /usr/local/lib/python3.7/dist-packages (from requests->torchvision) (2.10)\n",
            "Requirement already satisfied: certifi>=2017.4.17 in /usr/local/lib/python3.7/dist-packages (from requests->torchvision) (2022.6.15)\n"
          ]
        }
      ]
    },
    {
      "cell_type": "code",
      "source": [
        "#Let's install other dependencies\n",
        "!pip install pandas numpy transformers requests beautifulsoup4 "
      ],
      "metadata": {
        "colab": {
          "base_uri": "https://localhost:8080/"
        },
        "id": "lkHUDEHijEBX",
        "outputId": "b64e94a0-f2c8-46df-b57d-769d46e0fd95"
      },
      "execution_count": 49,
      "outputs": [
        {
          "output_type": "stream",
          "name": "stdout",
          "text": [
            "Looking in indexes: https://pypi.org/simple, https://us-python.pkg.dev/colab-wheels/public/simple/\n",
            "Requirement already satisfied: pandas in /usr/local/lib/python3.7/dist-packages (1.3.5)\n",
            "Requirement already satisfied: numpy in /usr/local/lib/python3.7/dist-packages (1.21.6)\n",
            "Requirement already satisfied: transformers in /usr/local/lib/python3.7/dist-packages (4.20.1)\n",
            "Requirement already satisfied: requests in /usr/local/lib/python3.7/dist-packages (2.23.0)\n",
            "Requirement already satisfied: beautifulsoup4 in /usr/local/lib/python3.7/dist-packages (4.6.3)\n",
            "Requirement already satisfied: pytz>=2017.3 in /usr/local/lib/python3.7/dist-packages (from pandas) (2022.1)\n",
            "Requirement already satisfied: python-dateutil>=2.7.3 in /usr/local/lib/python3.7/dist-packages (from pandas) (2.8.2)\n",
            "Requirement already satisfied: six>=1.5 in /usr/local/lib/python3.7/dist-packages (from python-dateutil>=2.7.3->pandas) (1.15.0)\n",
            "Requirement already satisfied: tqdm>=4.27 in /usr/local/lib/python3.7/dist-packages (from transformers) (4.64.0)\n",
            "Requirement already satisfied: huggingface-hub<1.0,>=0.1.0 in /usr/local/lib/python3.7/dist-packages (from transformers) (0.8.1)\n",
            "Requirement already satisfied: filelock in /usr/local/lib/python3.7/dist-packages (from transformers) (3.7.1)\n",
            "Requirement already satisfied: regex!=2019.12.17 in /usr/local/lib/python3.7/dist-packages (from transformers) (2022.6.2)\n",
            "Requirement already satisfied: packaging>=20.0 in /usr/local/lib/python3.7/dist-packages (from transformers) (21.3)\n",
            "Requirement already satisfied: importlib-metadata in /usr/local/lib/python3.7/dist-packages (from transformers) (4.11.4)\n",
            "Requirement already satisfied: tokenizers!=0.11.3,<0.13,>=0.11.1 in /usr/local/lib/python3.7/dist-packages (from transformers) (0.12.1)\n",
            "Requirement already satisfied: pyyaml>=5.1 in /usr/local/lib/python3.7/dist-packages (from transformers) (6.0)\n",
            "Requirement already satisfied: typing-extensions>=3.7.4.3 in /usr/local/lib/python3.7/dist-packages (from huggingface-hub<1.0,>=0.1.0->transformers) (4.1.1)\n",
            "Requirement already satisfied: pyparsing!=3.0.5,>=2.0.2 in /usr/local/lib/python3.7/dist-packages (from packaging>=20.0->transformers) (3.0.9)\n",
            "Requirement already satisfied: certifi>=2017.4.17 in /usr/local/lib/python3.7/dist-packages (from requests) (2022.6.15)\n",
            "Requirement already satisfied: urllib3!=1.25.0,!=1.25.1,<1.26,>=1.21.1 in /usr/local/lib/python3.7/dist-packages (from requests) (1.24.3)\n",
            "Requirement already satisfied: idna<3,>=2.5 in /usr/local/lib/python3.7/dist-packages (from requests) (2.10)\n",
            "Requirement already satisfied: chardet<4,>=3.0.2 in /usr/local/lib/python3.7/dist-packages (from requests) (3.0.4)\n",
            "Requirement already satisfied: zipp>=0.5 in /usr/local/lib/python3.7/dist-packages (from importlib-metadata->transformers) (3.8.0)\n"
          ]
        }
      ]
    },
    {
      "cell_type": "code",
      "source": [
        "from transformers import AutoTokenizer, AutoModelForSequenceClassification\n",
        "import torch\n",
        "import requests\n",
        "from bs4 import BeautifulSoup \n",
        "import re"
      ],
      "metadata": {
        "id": "n7MVq2D2k2SE"
      },
      "execution_count": 50,
      "outputs": []
    },
    {
      "cell_type": "markdown",
      "source": [
        "##2.Instatiate Model"
      ],
      "metadata": {
        "id": "FyS0WsQkhrD1"
      }
    },
    {
      "cell_type": "code",
      "source": [
        "tokenizer = AutoTokenizer.from_pretrained(\"nlptown/bert-base-multilingual-uncased-sentiment\")   # Loding a tokenizer\n",
        "\n",
        "model = AutoModelForSequenceClassification.from_pretrained('nlptown/bert-base-multilingual-uncased-sentiment')  # Loading a Model"
      ],
      "metadata": {
        "id": "ftiVbCeni_Cw"
      },
      "execution_count": 51,
      "outputs": []
    },
    {
      "cell_type": "markdown",
      "source": [
        "##3.Encode and Calculate Sentiment"
      ],
      "metadata": {
        "id": "fvBtTP1Dhw9W"
      }
    },
    {
      "cell_type": "code",
      "source": [
        "tokens = tokenizer.encode(\"I hate this food, absolutely the worst\", return_tensors='pt')"
      ],
      "metadata": {
        "id": "yRPOFAE3mfge"
      },
      "execution_count": 52,
      "outputs": []
    },
    {
      "cell_type": "code",
      "source": [
        "#tokens"
      ],
      "metadata": {
        "id": "gKKvRuKwmqvA"
      },
      "execution_count": 53,
      "outputs": []
    },
    {
      "cell_type": "code",
      "source": [
        "#tokenizer.decode(tokens[0])"
      ],
      "metadata": {
        "id": "I44qxbTgm_EA"
      },
      "execution_count": 54,
      "outputs": []
    },
    {
      "cell_type": "code",
      "source": [
        "result = model(tokens)"
      ],
      "metadata": {
        "id": "Zrdn3dPZnZNh"
      },
      "execution_count": 55,
      "outputs": []
    },
    {
      "cell_type": "code",
      "source": [
        "result"
      ],
      "metadata": {
        "colab": {
          "base_uri": "https://localhost:8080/"
        },
        "id": "v3-T2J9FneMR",
        "outputId": "6c935a5a-a40f-4cff-883a-d564fd6beaf8"
      },
      "execution_count": 56,
      "outputs": [
        {
          "output_type": "execute_result",
          "data": {
            "text/plain": [
              "SequenceClassifierOutput([('logits',\n",
              "                           tensor([[ 5.1580,  1.5413, -1.0141, -2.9975, -1.8733]],\n",
              "                                  grad_fn=<AddmmBackward0>))])"
            ]
          },
          "metadata": {},
          "execution_count": 56
        }
      ]
    },
    {
      "cell_type": "code",
      "source": [
        "result.logits"
      ],
      "metadata": {
        "colab": {
          "base_uri": "https://localhost:8080/"
        },
        "id": "rYNBWwFxnxuK",
        "outputId": "9346c44e-3613-4b96-f142-47a4041cc061"
      },
      "execution_count": 57,
      "outputs": [
        {
          "output_type": "execute_result",
          "data": {
            "text/plain": [
              "tensor([[ 5.1580,  1.5413, -1.0141, -2.9975, -1.8733]],\n",
              "       grad_fn=<AddmmBackward0>)"
            ]
          },
          "metadata": {},
          "execution_count": 57
        }
      ]
    },
    {
      "cell_type": "code",
      "source": [
        "torch.argmax(result.logits) # it gives the maximum value from a target function."
      ],
      "metadata": {
        "colab": {
          "base_uri": "https://localhost:8080/"
        },
        "id": "sZCKY8czn1D7",
        "outputId": "fb39b00f-08ad-44ab-fcd5-c408175b0b83"
      },
      "execution_count": 58,
      "outputs": [
        {
          "output_type": "execute_result",
          "data": {
            "text/plain": [
              "tensor(0)"
            ]
          },
          "metadata": {},
          "execution_count": 58
        }
      ]
    },
    {
      "cell_type": "code",
      "source": [
        "int(torch.argmax(result.logits))+1 "
      ],
      "metadata": {
        "colab": {
          "base_uri": "https://localhost:8080/"
        },
        "id": "XNj1LKxfoD08",
        "outputId": "fb4a234e-acaa-47ab-8b34-b4d27eada194"
      },
      "execution_count": 59,
      "outputs": [
        {
          "output_type": "execute_result",
          "data": {
            "text/plain": [
              "1"
            ]
          },
          "metadata": {},
          "execution_count": 59
        }
      ]
    },
    {
      "cell_type": "markdown",
      "source": [
        "##4.Collect Reviews"
      ],
      "metadata": {
        "id": "qEBJYdtWh0nd"
      }
    },
    {
      "cell_type": "code",
      "source": [
        "r = requests.get('https://www.yelp.com/biz/izakaya-hon-san-francisco-2')  #request for grabbing a webpage\n",
        "soup = BeautifulSoup(r.text,'html.parser')  #\n",
        "regex = re.compile('.*comment*') # extracting a specific component\n",
        "results = soup.find_all('p', {'class': regex}) \n",
        "reviews = [result.text for result in results]"
      ],
      "metadata": {
        "id": "rRdae3wXo7io"
      },
      "execution_count": 60,
      "outputs": []
    },
    {
      "cell_type": "code",
      "source": [
        "reviews"
      ],
      "metadata": {
        "colab": {
          "base_uri": "https://localhost:8080/"
        },
        "id": "g6FUmcOstzrn",
        "outputId": "74c972f1-b6a9-451f-992a-7526e1f67f28"
      },
      "execution_count": 61,
      "outputs": [
        {
          "output_type": "execute_result",
          "data": {
            "text/plain": [
              "[\"Best sushi I've had in forever. Two of us shared sashimi, two rolls, and beef skewers. I couldn't quite decide from menu and ordered two items I saw on Yelp (sunrise and crab & salmon roll), really enjoyed them both! Only remembered to take pic of one.The beef skewer was just okay for me. The beef was more well done than I like and a little pepper heavy. \\xa0Not worth filling up on this when you can eat more sushi. Excellent service too. Prices are a little high, but justified by the high quality.\",\n",
              " \"Everything was fantastic. Service, menu, food, drinks. I'd give 5 stars, but my stomach didn't agree and, well, it knows better when it comes to quality. No poisoning, just an overall rejection. Experience was so positive I'm up for rolling the dice again, which will either bring it up to 5 stars or down to 3, depending on outcome.\",\n",
              " \"My experience at Izakaya Hon was with a group of 20 for a work dinner. We made a prior reservation and they gave us the back room which perfectly fit our whole party. Starting from the beginning, the service was excellent. They came around with water and made sure we were taken care of and all of our glasses were full. We went around and ordered drinks and while the drinks were coming out, the servers were more than happy to take a group photo for us. A group of 20 isn't easy, so I absolutely respect the service that was provided.As for the food, it was sublime. Being an izakaya restaurant, Izakaya Hon has to specialize in all kinds of food. We ordered a huge amount of items on the menu and a big variety of items in various sections (pork skewers, beef tongue, hamachi kama, chicken skewers, beef skewers, nigiri - tuna, hamachi, salmon, meatballs, karaage, tataki, shishito peppers, grilled yasai, agedashi). All of them were executed perfectly and the portion sizes didn't make you feel overly stuffed or gross. If I had to pick some standouts, I would say that the chicken skewers, nigiri, and beef tongue were some must haves.Throughout the experience, the servers were more than courteous in asking us if we needed anything else and even provided a birthday dessert for one of our coworkers. I would come back to Izakaya Hon anytime, it was such a good time!\",\n",
              " 'Food was delectable and delicious. Came for a friends birthday party and this place knows how to host. Ordered every item on the Nama list and each one got better and better. Not only were the vibes immaculate, but the crew was nothing short of spectacular! Please come here. Party of 1 or party of 10, this is the place to be!!',\n",
              " \"When you're craving Japanese but you can't decide if you want sushi, meat, or comfort foods, Izakaya Hon has that problem solved because they have something for everyone here. We tried a few different items, starting with my favorites:Uni Toro Don: imagine the fresh and rich flavors of uni, toro, ikura blended into one harmonious bite, mmmmm amazing. Part of me wished I got an order for just myself.Hokkaido Scallop Umami Bites: the scallops were so buttery it just melts in your mouth. The umami and sweet flavors from the rice balanced out the scallops perfectly.Gyu Shita (Beef Tongue) Skewers: we were hoping to try to wagyu but they ran out so we got the tongue instead and the meat was soft, tender, and easy to bite. I liked the flavor of the sauce pairing, it added a nice pungent wasabi with subtle citrus flavors.Pork Belly Skewers: if you're looking for a well-bodied, fatty piece of pork belly, this is it. The meat itself was a little dry and tough to chew, but the sauce was amazing. It was saucy, which made the meat less dry, and the horseradish added a nice kick to it.Sumimasen: for a Kikori whiskey drink, this was light and refreshing. So delicious that this could be my go-to drink here.The sushi dishes and drinks were fantastic, but I'd skip on the skewers next time. PRO TIP: book reservations or come for an early dinner as this place gets packed in the evenings.\",\n",
              " \"Highly recommend it if you are in the Union Square and Metreon area! We were watching a movie at AMC Metreon and needed to grab dinner before, so we decided to stop by. It was a quick 10-minute walk from Union Square and Metreon. We got there around 5:30 pm on a Saturday, and it wasn't super crowded. I loved the industrial and modern vibe of the restaurant. It definitely has the SF hip and a little bit of traditional Japanese aura. We got a mix of sashimi and izakaya items on the menu and everything was great!-Sashimi Moriawase: every piece was excellent, really fresh! I think it was pretty worth it for $26-Uni-toro Don: yum, must get!-Gyu Shita (beef tongue): grilled perfectly and big portions-Pork Belly Skewers: a little salty with the fermented bean curd on top-Shishito Oshitashi (Shishito Pepper): Super spicy! I have eaten shishito peppers before at other restaurants. I don't remember them being so spicy? This is a no for next time.The receptionist and waiter were very attentive and friendly, and they came to fill the water multiple times during our meal which I did not expect since it wasn't one of those crazily fancy restaurants.***********My Overall Rating**********Taste: 4Price: 4Environment: 4Service: 5\",\n",
              " \"The food, service and the ambiance is amazing. The sushi was fresh and just perfect, friends told me that they love the uni and the scallops here. I got the Awaa cocktail which is can be a bit sweet but everyone needs to try the Yuzu Sake. It is AMAZING, subtle and not too sweet, it doesn't burn and it is just so so smooth. I am not the biggest alcohol drinker but everyone, including me, loves it.\",\n",
              " 'Great spot! Really fresh fish and high quality uni.Portions are pretty decent size as well which was nice for our group of 5. The skewers come in groups of 4 so they were perfect as we had one vegetarian. The beef tongue was surprisingly soft and the pork belly was also super tender.Other items we got include the umami scallops (6 per order) along with the scallops with uni (2 per order). Both were great! The tuna tataki was also excellent.Our vegetarian guest got the shishito peppers, cauliflower tempura and agedashi tofu. We finished off with tempura ice cream which was large portions - we split 2 amongst 5 people',\n",
              " \"It was late night around the area, all the other restaurants had wait list, so we came here given the raving reviews. But I think they are way over priced and food is not even at professional level. The ambiance is nice? It's spacious and has a modern feeling. The menu is not big but it has enough varieties.The food were disappointing. They are way too sweet and lacking freshness. The sushi roll was a special and I felt that they were just stuffing all the leftover in a roll and put on some overly sweet sauce to call it a day. The roll is not coherent at all. The karaage was okay, not an authentic karaage, the batter tasted like southern fried chicken. The Gyudon.... Had lots of mayonnaise on it, making it way too sweet. Beef quality was crumbly and did not taste fresh. For this price, I definitely expect so much more, but this is tik tok level homemade food, it might look good for a sec but it does not taste good! Gyudon should be a straight forward dish, why put so much mayo? Please put more thoughts in your food.Finally, they have a good selections of drinks, they are all pricey but I was okay with the prices. I got a banana strawberry sake and it tasted stale? I could only speak for my drink, but for $13 I do not expect a stale tasting drink.Will not come back.\",\n",
              " \"This is my fourth trip to Izakaya Hon and it remains the best Izakaya in San Francisco. Be warned though I will be visiting Noren Izakaya soon, but I am confident that this Mins Group iteration of the izakaya will remain at least equal. The Mins Group are one of the most innovative and daring restauranteurs in San Francisco, opening up hits like Sushi Sato during the mass panic that shut down so many other restaurants, especially their superlative Sura-Fan, the one and only high end Korean restaurant in the Bay Area. Izakaya Hon is a a homage to the small street restaurants in Japan and Korea serving grilled meats on skewers. \\xa0Izakaya Hon takes it to the next level in device with a fantastic cocktail collection and the best recommendations on said cocktails from their bartender. \\xa0He is a friendly and open mixologist who knows his cocktails. His recommendations were fantastic, we had the Shin, Kisetsu, and the Sumimasen. All spirit forward and excellently balanced. \\xa0No overbearing alcohol or sticky sweetness. We had reservations for 10 and despite being ready to close, the chef reopened the grill and we had a selection of skewers and tori karaage. All wel well will the cocktails. We were the last out, but appreciated the chef and maitre d' providing excellent service. We also had their very well done hamachi Kama, also recommended. \\xa0Go for the skewers, stay for the cocktails!\"]"
            ]
          },
          "metadata": {},
          "execution_count": 61
        }
      ]
    },
    {
      "cell_type": "markdown",
      "source": [
        "##5.Load Reviews into DataFrame and Score"
      ],
      "metadata": {
        "id": "0o3uE_7Gh3G1"
      }
    },
    {
      "cell_type": "code",
      "execution_count": 62,
      "metadata": {
        "id": "gv-e_RgThZxd"
      },
      "outputs": [],
      "source": [
        "import numpy as np\n",
        "import pandas as pd"
      ]
    },
    {
      "cell_type": "code",
      "source": [
        "df = pd.DataFrame(np.array(reviews), columns=['review'])"
      ],
      "metadata": {
        "id": "t6w2fjJPuPZe"
      },
      "execution_count": 63,
      "outputs": []
    },
    {
      "cell_type": "code",
      "source": [
        "df['review'].iloc[0]"
      ],
      "metadata": {
        "colab": {
          "base_uri": "https://localhost:8080/",
          "height": 70
        },
        "id": "ZwPM4QzauRf9",
        "outputId": "54464f38-3325-480f-95fb-df9635e65e0b"
      },
      "execution_count": 64,
      "outputs": [
        {
          "output_type": "execute_result",
          "data": {
            "text/plain": [
              "\"Best sushi I've had in forever. Two of us shared sashimi, two rolls, and beef skewers. I couldn't quite decide from menu and ordered two items I saw on Yelp (sunrise and crab & salmon roll), really enjoyed them both! Only remembered to take pic of one.The beef skewer was just okay for me. The beef was more well done than I like and a little pepper heavy. \\xa0Not worth filling up on this when you can eat more sushi. Excellent service too. Prices are a little high, but justified by the high quality.\""
            ],
            "application/vnd.google.colaboratory.intrinsic+json": {
              "type": "string"
            }
          },
          "metadata": {},
          "execution_count": 64
        }
      ]
    },
    {
      "cell_type": "code",
      "source": [
        "def sentiment_score(review):\n",
        "    tokens = tokenizer.encode(review, return_tensors='pt')\n",
        "    result = model(tokens)\n",
        "    return int(torch.argmax(result.logits))+1"
      ],
      "metadata": {
        "id": "k7keCkPguS_M"
      },
      "execution_count": 65,
      "outputs": []
    },
    {
      "cell_type": "code",
      "source": [
        "sentiment_score(df['review'].iloc[1])"
      ],
      "metadata": {
        "colab": {
          "base_uri": "https://localhost:8080/"
        },
        "id": "f5Q-R3DmuYAM",
        "outputId": "9dbb9778-5d41-4d3b-c19d-8622194aa38c"
      },
      "execution_count": 66,
      "outputs": [
        {
          "output_type": "execute_result",
          "data": {
            "text/plain": [
              "3"
            ]
          },
          "metadata": {},
          "execution_count": 66
        }
      ]
    },
    {
      "cell_type": "code",
      "source": [
        "df['sentiment'] = df['review'].apply(lambda x: sentiment_score(x[:512]))"
      ],
      "metadata": {
        "id": "alr3eyEjubdN"
      },
      "execution_count": 67,
      "outputs": []
    },
    {
      "cell_type": "code",
      "source": [
        "df"
      ],
      "metadata": {
        "colab": {
          "base_uri": "https://localhost:8080/",
          "height": 363
        },
        "id": "QH4jyXiBuiJ1",
        "outputId": "d652fb49-ef0a-4968-d4d7-5690e1b67695"
      },
      "execution_count": 68,
      "outputs": [
        {
          "output_type": "execute_result",
          "data": {
            "text/plain": [
              "                                              review  sentiment\n",
              "0  Best sushi I've had in forever. Two of us shar...          5\n",
              "1  Everything was fantastic. Service, menu, food,...          3\n",
              "2  My experience at Izakaya Hon was with a group ...          5\n",
              "3  Food was delectable and delicious. Came for a ...          5\n",
              "4  When you're craving Japanese but you can't dec...          2\n",
              "5  Highly recommend it if you are in the Union Sq...          5\n",
              "6  The food, service and the ambiance is amazing....          5\n",
              "7  Great spot! Really fresh fish and high quality...          5\n",
              "8  It was late night around the area, all the oth...          2\n",
              "9  This is my fourth trip to Izakaya Hon and it r...          5"
            ],
            "text/html": [
              "\n",
              "  <div id=\"df-4fefcf8a-786a-4c08-b9e3-d345e731043a\">\n",
              "    <div class=\"colab-df-container\">\n",
              "      <div>\n",
              "<style scoped>\n",
              "    .dataframe tbody tr th:only-of-type {\n",
              "        vertical-align: middle;\n",
              "    }\n",
              "\n",
              "    .dataframe tbody tr th {\n",
              "        vertical-align: top;\n",
              "    }\n",
              "\n",
              "    .dataframe thead th {\n",
              "        text-align: right;\n",
              "    }\n",
              "</style>\n",
              "<table border=\"1\" class=\"dataframe\">\n",
              "  <thead>\n",
              "    <tr style=\"text-align: right;\">\n",
              "      <th></th>\n",
              "      <th>review</th>\n",
              "      <th>sentiment</th>\n",
              "    </tr>\n",
              "  </thead>\n",
              "  <tbody>\n",
              "    <tr>\n",
              "      <th>0</th>\n",
              "      <td>Best sushi I've had in forever. Two of us shar...</td>\n",
              "      <td>5</td>\n",
              "    </tr>\n",
              "    <tr>\n",
              "      <th>1</th>\n",
              "      <td>Everything was fantastic. Service, menu, food,...</td>\n",
              "      <td>3</td>\n",
              "    </tr>\n",
              "    <tr>\n",
              "      <th>2</th>\n",
              "      <td>My experience at Izakaya Hon was with a group ...</td>\n",
              "      <td>5</td>\n",
              "    </tr>\n",
              "    <tr>\n",
              "      <th>3</th>\n",
              "      <td>Food was delectable and delicious. Came for a ...</td>\n",
              "      <td>5</td>\n",
              "    </tr>\n",
              "    <tr>\n",
              "      <th>4</th>\n",
              "      <td>When you're craving Japanese but you can't dec...</td>\n",
              "      <td>2</td>\n",
              "    </tr>\n",
              "    <tr>\n",
              "      <th>5</th>\n",
              "      <td>Highly recommend it if you are in the Union Sq...</td>\n",
              "      <td>5</td>\n",
              "    </tr>\n",
              "    <tr>\n",
              "      <th>6</th>\n",
              "      <td>The food, service and the ambiance is amazing....</td>\n",
              "      <td>5</td>\n",
              "    </tr>\n",
              "    <tr>\n",
              "      <th>7</th>\n",
              "      <td>Great spot! Really fresh fish and high quality...</td>\n",
              "      <td>5</td>\n",
              "    </tr>\n",
              "    <tr>\n",
              "      <th>8</th>\n",
              "      <td>It was late night around the area, all the oth...</td>\n",
              "      <td>2</td>\n",
              "    </tr>\n",
              "    <tr>\n",
              "      <th>9</th>\n",
              "      <td>This is my fourth trip to Izakaya Hon and it r...</td>\n",
              "      <td>5</td>\n",
              "    </tr>\n",
              "  </tbody>\n",
              "</table>\n",
              "</div>\n",
              "      <button class=\"colab-df-convert\" onclick=\"convertToInteractive('df-4fefcf8a-786a-4c08-b9e3-d345e731043a')\"\n",
              "              title=\"Convert this dataframe to an interactive table.\"\n",
              "              style=\"display:none;\">\n",
              "        \n",
              "  <svg xmlns=\"http://www.w3.org/2000/svg\" height=\"24px\"viewBox=\"0 0 24 24\"\n",
              "       width=\"24px\">\n",
              "    <path d=\"M0 0h24v24H0V0z\" fill=\"none\"/>\n",
              "    <path d=\"M18.56 5.44l.94 2.06.94-2.06 2.06-.94-2.06-.94-.94-2.06-.94 2.06-2.06.94zm-11 1L8.5 8.5l.94-2.06 2.06-.94-2.06-.94L8.5 2.5l-.94 2.06-2.06.94zm10 10l.94 2.06.94-2.06 2.06-.94-2.06-.94-.94-2.06-.94 2.06-2.06.94z\"/><path d=\"M17.41 7.96l-1.37-1.37c-.4-.4-.92-.59-1.43-.59-.52 0-1.04.2-1.43.59L10.3 9.45l-7.72 7.72c-.78.78-.78 2.05 0 2.83L4 21.41c.39.39.9.59 1.41.59.51 0 1.02-.2 1.41-.59l7.78-7.78 2.81-2.81c.8-.78.8-2.07 0-2.86zM5.41 20L4 18.59l7.72-7.72 1.47 1.35L5.41 20z\"/>\n",
              "  </svg>\n",
              "      </button>\n",
              "      \n",
              "  <style>\n",
              "    .colab-df-container {\n",
              "      display:flex;\n",
              "      flex-wrap:wrap;\n",
              "      gap: 12px;\n",
              "    }\n",
              "\n",
              "    .colab-df-convert {\n",
              "      background-color: #E8F0FE;\n",
              "      border: none;\n",
              "      border-radius: 50%;\n",
              "      cursor: pointer;\n",
              "      display: none;\n",
              "      fill: #1967D2;\n",
              "      height: 32px;\n",
              "      padding: 0 0 0 0;\n",
              "      width: 32px;\n",
              "    }\n",
              "\n",
              "    .colab-df-convert:hover {\n",
              "      background-color: #E2EBFA;\n",
              "      box-shadow: 0px 1px 2px rgba(60, 64, 67, 0.3), 0px 1px 3px 1px rgba(60, 64, 67, 0.15);\n",
              "      fill: #174EA6;\n",
              "    }\n",
              "\n",
              "    [theme=dark] .colab-df-convert {\n",
              "      background-color: #3B4455;\n",
              "      fill: #D2E3FC;\n",
              "    }\n",
              "\n",
              "    [theme=dark] .colab-df-convert:hover {\n",
              "      background-color: #434B5C;\n",
              "      box-shadow: 0px 1px 3px 1px rgba(0, 0, 0, 0.15);\n",
              "      filter: drop-shadow(0px 1px 2px rgba(0, 0, 0, 0.3));\n",
              "      fill: #FFFFFF;\n",
              "    }\n",
              "  </style>\n",
              "\n",
              "      <script>\n",
              "        const buttonEl =\n",
              "          document.querySelector('#df-4fefcf8a-786a-4c08-b9e3-d345e731043a button.colab-df-convert');\n",
              "        buttonEl.style.display =\n",
              "          google.colab.kernel.accessAllowed ? 'block' : 'none';\n",
              "\n",
              "        async function convertToInteractive(key) {\n",
              "          const element = document.querySelector('#df-4fefcf8a-786a-4c08-b9e3-d345e731043a');\n",
              "          const dataTable =\n",
              "            await google.colab.kernel.invokeFunction('convertToInteractive',\n",
              "                                                     [key], {});\n",
              "          if (!dataTable) return;\n",
              "\n",
              "          const docLinkHtml = 'Like what you see? Visit the ' +\n",
              "            '<a target=\"_blank\" href=https://colab.research.google.com/notebooks/data_table.ipynb>data table notebook</a>'\n",
              "            + ' to learn more about interactive tables.';\n",
              "          element.innerHTML = '';\n",
              "          dataTable['output_type'] = 'display_data';\n",
              "          await google.colab.output.renderOutput(dataTable, element);\n",
              "          const docLink = document.createElement('div');\n",
              "          docLink.innerHTML = docLinkHtml;\n",
              "          element.appendChild(docLink);\n",
              "        }\n",
              "      </script>\n",
              "    </div>\n",
              "  </div>\n",
              "  "
            ]
          },
          "metadata": {},
          "execution_count": 68
        }
      ]
    },
    {
      "cell_type": "code",
      "source": [
        "df['review'].iloc[3]"
      ],
      "metadata": {
        "colab": {
          "base_uri": "https://localhost:8080/",
          "height": 53
        },
        "id": "zh6sOgXtunY8",
        "outputId": "c9d90331-58f4-4059-d1e4-edd010bb5ad4"
      },
      "execution_count": 69,
      "outputs": [
        {
          "output_type": "execute_result",
          "data": {
            "text/plain": [
              "'Food was delectable and delicious. Came for a friends birthday party and this place knows how to host. Ordered every item on the Nama list and each one got better and better. Not only were the vibes immaculate, but the crew was nothing short of spectacular! Please come here. Party of 1 or party of 10, this is the place to be!!'"
            ],
            "application/vnd.google.colaboratory.intrinsic+json": {
              "type": "string"
            }
          },
          "metadata": {},
          "execution_count": 69
        }
      ]
    },
    {
      "cell_type": "code",
      "source": [
        ""
      ],
      "metadata": {
        "id": "Iu0GIHiGuqUF"
      },
      "execution_count": 69,
      "outputs": []
    }
  ]
}